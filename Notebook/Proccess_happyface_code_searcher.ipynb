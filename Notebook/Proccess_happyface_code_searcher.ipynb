{
 "nbformat": 4,
 "nbformat_minor": 0,
 "metadata": {
  "colab": {
   "provenance": []
  },
  "kernelspec": {
   "name": "python3",
   "display_name": "Python 3 (ipykernel)",
   "language": "python"
  },
  "language_info": {
   "name": "python"
  }
 },
 "cells": [
  {
   "cell_type": "code",
   "source": [
    "!pip install --quiet datasets pandas"
   ],
   "metadata": {
    "collapsed": true,
    "id": "EMw2gFxxjxa6"
   },
   "outputs": [],
   "execution_count": null
  },
  {
   "metadata": {},
   "cell_type": "markdown",
   "source": "Jupyter Notebook to extract code_search_net dataset from happyface"
  },
  {
   "cell_type": "code",
   "metadata": {
    "collapsed": true,
    "id": "O45XgOaki75U"
   },
   "source": [
    "from datasets import load_dataset\n",
    "import pandas as pd"
   ],
   "outputs": [],
   "execution_count": null
  },
  {
   "cell_type": "code",
   "source": [
    "import re\n",
    "\n",
    "# Load dataset via python configs\n",
    "ds = load_dataset(\"code_search_net\", \"python\")[\"train\"]\n"
   ],
   "metadata": {
    "colab": {
     "base_uri": "https://localhost:8080/"
    },
    "id": "M9y39z4hvWkv",
    "outputId": "b6397943-aa9f-42a7-8c0e-4b38e128a31c"
   },
   "outputs": [],
   "execution_count": null
  },
  {
   "metadata": {},
   "cell_type": "markdown",
   "source": ""
  },
  {
   "cell_type": "markdown",
   "source": "The dataset has multiple languages, we only want to use python. ",
   "metadata": {
    "id": "9HVHUCm7yLtm"
   }
  },
  {
   "cell_type": "code",
   "source": [
    "df = ds.to_pandas() #convert to pandas\n"
   ],
   "metadata": {
    "id": "JTn1VsFhw2-n"
   },
   "outputs": [],
   "execution_count": null
  },
  {
   "cell_type": "code",
   "source": [
    "df.head(10)"
   ],
   "metadata": {
    "colab": {
     "base_uri": "https://localhost:8080/",
     "height": 626
    },
    "id": "AHi0yg7jzhLL",
    "outputId": "2a1e6920-d917-4835-c6b2-4c9a1c5d5e92"
   },
   "outputs": [],
   "execution_count": null
  },
  {
   "cell_type": "code",
   "source": [
    "df.to_csv(\"data.csv\")"
   ],
   "metadata": {
    "id": "qwIoUFC-1lxB"
   },
   "outputs": [],
   "execution_count": null
  },
  {
   "cell_type": "code",
   "source": [
    "df.head(1)"
   ],
   "metadata": {
    "colab": {
     "base_uri": "https://localhost:8080/",
     "height": 135
    },
    "id": "sTprMHkC91vl",
    "outputId": "34b0b290-8bd8-4515-b3c8-405bb540e5af"
   },
   "outputs": [],
   "execution_count": null
  },
  {
   "metadata": {},
   "cell_type": "markdown",
   "source": "All code below operates on the dataset with only python language "
  },
  {
   "metadata": {
    "ExecuteTime": {
     "end_time": "2025-05-01T16:36:16.228838Z",
     "start_time": "2025-05-01T16:36:15.138302Z"
    }
   },
   "cell_type": "code",
   "source": "import pandas as pd",
   "outputs": [],
   "execution_count": 2
  },
  {
   "metadata": {
    "ExecuteTime": {
     "end_time": "2025-05-01T16:36:17.020576Z",
     "start_time": "2025-05-01T16:36:17.014744Z"
    }
   },
   "cell_type": "code",
   "source": [
    "import os\n",
    "print(os.getcwd())"
   ],
   "outputs": [
    {
     "name": "stdout",
     "output_type": "stream",
     "text": [
      "C:\\Users\\adenk\\PycharmProjects\\code-to-doc\\Notebook\n"
     ]
    }
   ],
   "execution_count": 3
  },
  {
   "metadata": {},
   "cell_type": "markdown",
   "source": "Splitting the dataset into smaller chunks for easier runtime"
  },
  {
   "metadata": {
    "ExecuteTime": {
     "end_time": "2025-05-01T19:58:17.188877Z",
     "start_time": "2025-05-01T19:58:16.537150Z"
    }
   },
   "cell_type": "code",
   "source": [
    "import os\n",
    "import pandas as pd"
   ],
   "outputs": [],
   "execution_count": 1
  },
  {
   "metadata": {
    "ExecuteTime": {
     "end_time": "2025-05-01T16:51:20.122158Z",
     "start_time": "2025-05-01T16:51:18.785472Z"
    }
   },
   "cell_type": "code",
   "source": "from sklearn.model_selection import train_test_split",
   "outputs": [],
   "execution_count": 10
  },
  {
   "metadata": {
    "ExecuteTime": {
     "end_time": "2025-05-01T20:28:04.825459Z",
     "start_time": "2025-05-01T20:28:04.814466Z"
    }
   },
   "cell_type": "code",
   "source": [
    "# Read the first 10,000 rows\n",
    "df = pd.read_csv(\"../dataset/data.csv\", nrows=5)\n",
    "\n",
    "# Save to the folder\n",
    "df.to_csv('../dataset/sample.csv', index=False)"
   ],
   "outputs": [],
   "execution_count": 21
  },
  {
   "metadata": {
    "ExecuteTime": {
     "end_time": "2025-05-01T20:28:06.510961Z",
     "start_time": "2025-05-01T20:28:06.489171Z"
    }
   },
   "cell_type": "code",
   "source": "sample_df = pd.read_csv('../dataset/sample.csv')",
   "outputs": [],
   "execution_count": 22
  },
  {
   "metadata": {},
   "cell_type": "markdown",
   "source": ""
  },
  {
   "metadata": {
    "ExecuteTime": {
     "end_time": "2025-05-01T20:28:08.778686Z",
     "start_time": "2025-05-01T20:28:08.771015Z"
    }
   },
   "cell_type": "code",
   "source": "sample_df.info()",
   "outputs": [
    {
     "name": "stdout",
     "output_type": "stream",
     "text": [
      "<class 'pandas.core.frame.DataFrame'>\n",
      "RangeIndex: 5 entries, 0 to 4\n",
      "Data columns (total 12 columns):\n",
      " #   Column                     Non-Null Count  Dtype \n",
      "---  ------                     --------------  ----- \n",
      " 0   Unnamed: 0                 5 non-null      int64 \n",
      " 1   repository_name            5 non-null      object\n",
      " 2   func_path_in_repository    5 non-null      object\n",
      " 3   func_name                  5 non-null      object\n",
      " 4   whole_func_string          5 non-null      object\n",
      " 5   language                   5 non-null      object\n",
      " 6   func_code_string           5 non-null      object\n",
      " 7   func_code_tokens           5 non-null      object\n",
      " 8   func_documentation_string  5 non-null      object\n",
      " 9   func_documentation_tokens  5 non-null      object\n",
      " 10  split_name                 5 non-null      object\n",
      " 11  func_code_url              5 non-null      object\n",
      "dtypes: int64(1), object(11)\n",
      "memory usage: 612.0+ bytes\n"
     ]
    }
   ],
   "execution_count": 23
  },
  {
   "metadata": {},
   "cell_type": "markdown",
   "source": ""
  },
  {
   "metadata": {
    "ExecuteTime": {
     "end_time": "2025-05-01T20:11:11.380233Z",
     "start_time": "2025-05-01T20:11:11.369676Z"
    }
   },
   "cell_type": "code",
   "source": "sample_df.head()",
   "outputs": [
    {
     "data": {
      "text/plain": [
       "   Unnamed: 0 repository_name                 func_path_in_repository  \\\n",
       "0           0   gem/oq-engine  openquake/calculators/export/hazard.py   \n",
       "1           1   gem/oq-engine  openquake/calculators/export/hazard.py   \n",
       "2           2   gem/oq-engine  openquake/calculators/export/hazard.py   \n",
       "3           3   gem/oq-engine  openquake/calculators/export/hazard.py   \n",
       "4           4   gem/oq-engine  openquake/calculators/export/hazard.py   \n",
       "\n",
       "                   func_name  \\\n",
       "0        export_ruptures_csv   \n",
       "1           export_hmaps_csv   \n",
       "2                    add_imt   \n",
       "3  export_hcurves_by_imt_csv   \n",
       "4          hazard_curve_name   \n",
       "\n",
       "                                   whole_func_string language  \\\n",
       "0  def export_ruptures_csv(ekey, dstore):\\n    \"\"...   python   \n",
       "1  def export_hmaps_csv(key, dest, sitemesh, arra...   python   \n",
       "2  def add_imt(fname, imt):\\n    \"\"\"\\n    >>> add...   python   \n",
       "3  def export_hcurves_by_imt_csv(\\n        key, k...   python   \n",
       "4  def hazard_curve_name(dstore, ekey, kind, rlzs...   python   \n",
       "\n",
       "                                    func_code_string  \\\n",
       "0  def export_ruptures_csv(ekey, dstore):\\n    \"\"...   \n",
       "1  def export_hmaps_csv(key, dest, sitemesh, arra...   \n",
       "2  def add_imt(fname, imt):\\n    \"\"\"\\n    >>> add...   \n",
       "3  def export_hcurves_by_imt_csv(\\n        key, k...   \n",
       "4  def hazard_curve_name(dstore, ekey, kind, rlzs...   \n",
       "\n",
       "                                    func_code_tokens  \\\n",
       "0  ['def' 'export_ruptures_csv' '(' 'ekey' ',' 'd...   \n",
       "1  ['def' 'export_hmaps_csv' '(' 'key' ',' 'dest'...   \n",
       "2  ['def' 'add_imt' '(' 'fname' ',' 'imt' ')' ':'...   \n",
       "3  ['def' 'export_hcurves_by_imt_csv' '(' 'key' '...   \n",
       "4  ['def' 'hazard_curve_name' '(' 'dstore' ',' 'e...   \n",
       "\n",
       "                           func_documentation_string  \\\n",
       "0  :param ekey: export key, i.e. a pair (datastor...   \n",
       "1  Export the hazard maps of the given realizatio...   \n",
       "2  >>> add_imt('/path/to/hcurve_23.csv', 'SA(0.1)...   \n",
       "3  Export the curves of the given realization int...   \n",
       "4  :param calc_id: the calculation ID\\n    :param...   \n",
       "\n",
       "                           func_documentation_tokens split_name  \\\n",
       "0  [':' 'param' 'ekey' ':' 'export' 'key' 'i' '.'...      train   \n",
       "1  ['Export' 'the' 'hazard' 'maps' 'of' 'the' 'gi...      train   \n",
       "2  ['>>>' 'add_imt' '(' '/' 'path' '/' 'to' '/' '...      train   \n",
       "3  ['Export' 'the' 'curves' 'of' 'the' 'given' 'r...      train   \n",
       "4  [':' 'param' 'calc_id' ':' 'the' 'calculation'...      train   \n",
       "\n",
       "                                       func_code_url  \n",
       "0  https://github.com/gem/oq-engine/blob/8294553a...  \n",
       "1  https://github.com/gem/oq-engine/blob/8294553a...  \n",
       "2  https://github.com/gem/oq-engine/blob/8294553a...  \n",
       "3  https://github.com/gem/oq-engine/blob/8294553a...  \n",
       "4  https://github.com/gem/oq-engine/blob/8294553a...  "
      ],
      "text/html": [
       "<div>\n",
       "<style scoped>\n",
       "    .dataframe tbody tr th:only-of-type {\n",
       "        vertical-align: middle;\n",
       "    }\n",
       "\n",
       "    .dataframe tbody tr th {\n",
       "        vertical-align: top;\n",
       "    }\n",
       "\n",
       "    .dataframe thead th {\n",
       "        text-align: right;\n",
       "    }\n",
       "</style>\n",
       "<table border=\"1\" class=\"dataframe\">\n",
       "  <thead>\n",
       "    <tr style=\"text-align: right;\">\n",
       "      <th></th>\n",
       "      <th>Unnamed: 0</th>\n",
       "      <th>repository_name</th>\n",
       "      <th>func_path_in_repository</th>\n",
       "      <th>func_name</th>\n",
       "      <th>whole_func_string</th>\n",
       "      <th>language</th>\n",
       "      <th>func_code_string</th>\n",
       "      <th>func_code_tokens</th>\n",
       "      <th>func_documentation_string</th>\n",
       "      <th>func_documentation_tokens</th>\n",
       "      <th>split_name</th>\n",
       "      <th>func_code_url</th>\n",
       "    </tr>\n",
       "  </thead>\n",
       "  <tbody>\n",
       "    <tr>\n",
       "      <th>0</th>\n",
       "      <td>0</td>\n",
       "      <td>gem/oq-engine</td>\n",
       "      <td>openquake/calculators/export/hazard.py</td>\n",
       "      <td>export_ruptures_csv</td>\n",
       "      <td>def export_ruptures_csv(ekey, dstore):\\n    \"\"...</td>\n",
       "      <td>python</td>\n",
       "      <td>def export_ruptures_csv(ekey, dstore):\\n    \"\"...</td>\n",
       "      <td>['def' 'export_ruptures_csv' '(' 'ekey' ',' 'd...</td>\n",
       "      <td>:param ekey: export key, i.e. a pair (datastor...</td>\n",
       "      <td>[':' 'param' 'ekey' ':' 'export' 'key' 'i' '.'...</td>\n",
       "      <td>train</td>\n",
       "      <td>https://github.com/gem/oq-engine/blob/8294553a...</td>\n",
       "    </tr>\n",
       "    <tr>\n",
       "      <th>1</th>\n",
       "      <td>1</td>\n",
       "      <td>gem/oq-engine</td>\n",
       "      <td>openquake/calculators/export/hazard.py</td>\n",
       "      <td>export_hmaps_csv</td>\n",
       "      <td>def export_hmaps_csv(key, dest, sitemesh, arra...</td>\n",
       "      <td>python</td>\n",
       "      <td>def export_hmaps_csv(key, dest, sitemesh, arra...</td>\n",
       "      <td>['def' 'export_hmaps_csv' '(' 'key' ',' 'dest'...</td>\n",
       "      <td>Export the hazard maps of the given realizatio...</td>\n",
       "      <td>['Export' 'the' 'hazard' 'maps' 'of' 'the' 'gi...</td>\n",
       "      <td>train</td>\n",
       "      <td>https://github.com/gem/oq-engine/blob/8294553a...</td>\n",
       "    </tr>\n",
       "    <tr>\n",
       "      <th>2</th>\n",
       "      <td>2</td>\n",
       "      <td>gem/oq-engine</td>\n",
       "      <td>openquake/calculators/export/hazard.py</td>\n",
       "      <td>add_imt</td>\n",
       "      <td>def add_imt(fname, imt):\\n    \"\"\"\\n    &gt;&gt;&gt; add...</td>\n",
       "      <td>python</td>\n",
       "      <td>def add_imt(fname, imt):\\n    \"\"\"\\n    &gt;&gt;&gt; add...</td>\n",
       "      <td>['def' 'add_imt' '(' 'fname' ',' 'imt' ')' ':'...</td>\n",
       "      <td>&gt;&gt;&gt; add_imt('/path/to/hcurve_23.csv', 'SA(0.1)...</td>\n",
       "      <td>['&gt;&gt;&gt;' 'add_imt' '(' '/' 'path' '/' 'to' '/' '...</td>\n",
       "      <td>train</td>\n",
       "      <td>https://github.com/gem/oq-engine/blob/8294553a...</td>\n",
       "    </tr>\n",
       "    <tr>\n",
       "      <th>3</th>\n",
       "      <td>3</td>\n",
       "      <td>gem/oq-engine</td>\n",
       "      <td>openquake/calculators/export/hazard.py</td>\n",
       "      <td>export_hcurves_by_imt_csv</td>\n",
       "      <td>def export_hcurves_by_imt_csv(\\n        key, k...</td>\n",
       "      <td>python</td>\n",
       "      <td>def export_hcurves_by_imt_csv(\\n        key, k...</td>\n",
       "      <td>['def' 'export_hcurves_by_imt_csv' '(' 'key' '...</td>\n",
       "      <td>Export the curves of the given realization int...</td>\n",
       "      <td>['Export' 'the' 'curves' 'of' 'the' 'given' 'r...</td>\n",
       "      <td>train</td>\n",
       "      <td>https://github.com/gem/oq-engine/blob/8294553a...</td>\n",
       "    </tr>\n",
       "    <tr>\n",
       "      <th>4</th>\n",
       "      <td>4</td>\n",
       "      <td>gem/oq-engine</td>\n",
       "      <td>openquake/calculators/export/hazard.py</td>\n",
       "      <td>hazard_curve_name</td>\n",
       "      <td>def hazard_curve_name(dstore, ekey, kind, rlzs...</td>\n",
       "      <td>python</td>\n",
       "      <td>def hazard_curve_name(dstore, ekey, kind, rlzs...</td>\n",
       "      <td>['def' 'hazard_curve_name' '(' 'dstore' ',' 'e...</td>\n",
       "      <td>:param calc_id: the calculation ID\\n    :param...</td>\n",
       "      <td>[':' 'param' 'calc_id' ':' 'the' 'calculation'...</td>\n",
       "      <td>train</td>\n",
       "      <td>https://github.com/gem/oq-engine/blob/8294553a...</td>\n",
       "    </tr>\n",
       "  </tbody>\n",
       "</table>\n",
       "</div>"
      ]
     },
     "execution_count": 13,
     "metadata": {},
     "output_type": "execute_result"
    }
   ],
   "execution_count": 13
  },
  {
   "metadata": {
    "ExecuteTime": {
     "end_time": "2025-05-01T20:28:11.998355Z",
     "start_time": "2025-05-01T20:28:11.993323Z"
    }
   },
   "cell_type": "code",
   "source": "print(len(sample_df))",
   "outputs": [
    {
     "name": "stdout",
     "output_type": "stream",
     "text": [
      "5\n"
     ]
    }
   ],
   "execution_count": 24
  },
  {
   "metadata": {
    "ExecuteTime": {
     "end_time": "2025-05-01T20:13:34.053521Z",
     "start_time": "2025-05-01T20:13:34.047645Z"
    }
   },
   "cell_type": "code",
   "source": "sample_df.func_name\n",
   "outputs": [
    {
     "data": {
      "text/plain": [
       "0                          export_ruptures_csv\n",
       "1                             export_hmaps_csv\n",
       "2                                      add_imt\n",
       "3                    export_hcurves_by_imt_csv\n",
       "4                            hazard_curve_name\n",
       "5                                      get_kkf\n",
       "6                           export_hcurves_csv\n",
       "7                                 get_metadata\n",
       "8                                   export_gmf\n",
       "9                           save_disagg_to_csv\n",
       "10    Bradley2013bChchCBD.get_mean_and_stddevs\n",
       "11        Bradley2013bChchCBD._interp_function\n",
       "12            Bradley2013bChchCBD._get_SRF_tau\n",
       "13            Bradley2013bChchCBD._get_SRF_phi\n",
       "14          Bradley2013bChchCBD._get_SRF_sigma\n",
       "15               Bradley2013bChchCBD._get_dL2L\n",
       "16               Bradley2013bChchCBD._get_dS2S\n",
       "17                                     context\n",
       "18                               split_sources\n",
       "19        IntegrationDistance.get_bounding_box\n",
       "Name: func_name, dtype: object"
      ]
     },
     "execution_count": 20,
     "metadata": {},
     "output_type": "execute_result"
    }
   ],
   "execution_count": 20
  }
 ]
}
