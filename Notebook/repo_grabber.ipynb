{
 "cells": [
  {
   "cell_type": "code",
   "id": "initial_id",
   "metadata": {
    "collapsed": true,
    "ExecuteTime": {
     "end_time": "2025-05-07T01:36:39.374505Z",
     "start_time": "2025-05-07T01:36:39.370742Z"
    }
   },
   "source": [
    "import pandas as pd\n",
    "import re \n",
    "import os \n",
    "from datasets import load_dataset\n",
    "import random \n",
    "from IPython.display import display\n"
   ],
   "outputs": [],
   "execution_count": 74
  },
  {
   "metadata": {},
   "cell_type": "markdown",
   "source": "From code_search_net huggingface dataset (data.csv) -> repo datasets",
   "id": "90fd7574524d3b94"
  },
  {
   "metadata": {
    "ExecuteTime": {
     "end_time": "2025-05-07T00:39:51.398947Z",
     "start_time": "2025-05-07T00:39:33.045475Z"
    }
   },
   "cell_type": "code",
   "source": "df = pd.read_csv('../dataset/data.csv') #read from bulk",
   "id": "2ae1659a2af79e95",
   "outputs": [],
   "execution_count": 2
  },
  {
   "metadata": {
    "ExecuteTime": {
     "end_time": "2025-05-07T01:08:05.276988Z",
     "start_time": "2025-05-07T01:08:05.257413Z"
    }
   },
   "cell_type": "code",
   "source": "df.head()",
   "id": "95b991eed769b8d2",
   "outputs": [
    {
     "data": {
      "text/plain": [
       "   Unnamed: 0 repository_name                 func_path_in_repository  \\\n",
       "0           0   gem/oq-engine  openquake/calculators/export/hazard.py   \n",
       "1           1   gem/oq-engine  openquake/calculators/export/hazard.py   \n",
       "2           2   gem/oq-engine  openquake/calculators/export/hazard.py   \n",
       "3           3   gem/oq-engine  openquake/calculators/export/hazard.py   \n",
       "4           4   gem/oq-engine  openquake/calculators/export/hazard.py   \n",
       "\n",
       "                   func_name  \\\n",
       "0        export_ruptures_csv   \n",
       "1           export_hmaps_csv   \n",
       "2                    add_imt   \n",
       "3  export_hcurves_by_imt_csv   \n",
       "4          hazard_curve_name   \n",
       "\n",
       "                                   whole_func_string language  \\\n",
       "0  def export_ruptures_csv(ekey, dstore):\\n    \"\"...   python   \n",
       "1  def export_hmaps_csv(key, dest, sitemesh, arra...   python   \n",
       "2  def add_imt(fname, imt):\\n    \"\"\"\\n    >>> add...   python   \n",
       "3  def export_hcurves_by_imt_csv(\\n        key, k...   python   \n",
       "4  def hazard_curve_name(dstore, ekey, kind, rlzs...   python   \n",
       "\n",
       "                                    func_code_string  \\\n",
       "0  def export_ruptures_csv(ekey, dstore):\\n    \"\"...   \n",
       "1  def export_hmaps_csv(key, dest, sitemesh, arra...   \n",
       "2  def add_imt(fname, imt):\\n    \"\"\"\\n    >>> add...   \n",
       "3  def export_hcurves_by_imt_csv(\\n        key, k...   \n",
       "4  def hazard_curve_name(dstore, ekey, kind, rlzs...   \n",
       "\n",
       "                                    func_code_tokens  \\\n",
       "0  ['def' 'export_ruptures_csv' '(' 'ekey' ',' 'd...   \n",
       "1  ['def' 'export_hmaps_csv' '(' 'key' ',' 'dest'...   \n",
       "2  ['def' 'add_imt' '(' 'fname' ',' 'imt' ')' ':'...   \n",
       "3  ['def' 'export_hcurves_by_imt_csv' '(' 'key' '...   \n",
       "4  ['def' 'hazard_curve_name' '(' 'dstore' ',' 'e...   \n",
       "\n",
       "                           func_documentation_string  \\\n",
       "0  :param ekey: export key, i.e. a pair (datastor...   \n",
       "1  Export the hazard maps of the given realizatio...   \n",
       "2  >>> add_imt('/path/to/hcurve_23.csv', 'SA(0.1)...   \n",
       "3  Export the curves of the given realization int...   \n",
       "4  :param calc_id: the calculation ID\\n    :param...   \n",
       "\n",
       "                           func_documentation_tokens split_name  \\\n",
       "0  [':' 'param' 'ekey' ':' 'export' 'key' 'i' '.'...      train   \n",
       "1  ['Export' 'the' 'hazard' 'maps' 'of' 'the' 'gi...      train   \n",
       "2  ['>>>' 'add_imt' '(' '/' 'path' '/' 'to' '/' '...      train   \n",
       "3  ['Export' 'the' 'curves' 'of' 'the' 'given' 'r...      train   \n",
       "4  [':' 'param' 'calc_id' ':' 'the' 'calculation'...      train   \n",
       "\n",
       "                                       func_code_url  \n",
       "0  https://github.com/gem/oq-engine/blob/8294553a...  \n",
       "1  https://github.com/gem/oq-engine/blob/8294553a...  \n",
       "2  https://github.com/gem/oq-engine/blob/8294553a...  \n",
       "3  https://github.com/gem/oq-engine/blob/8294553a...  \n",
       "4  https://github.com/gem/oq-engine/blob/8294553a...  "
      ],
      "text/html": [
       "<div>\n",
       "<style scoped>\n",
       "    .dataframe tbody tr th:only-of-type {\n",
       "        vertical-align: middle;\n",
       "    }\n",
       "\n",
       "    .dataframe tbody tr th {\n",
       "        vertical-align: top;\n",
       "    }\n",
       "\n",
       "    .dataframe thead th {\n",
       "        text-align: right;\n",
       "    }\n",
       "</style>\n",
       "<table border=\"1\" class=\"dataframe\">\n",
       "  <thead>\n",
       "    <tr style=\"text-align: right;\">\n",
       "      <th></th>\n",
       "      <th>Unnamed: 0</th>\n",
       "      <th>repository_name</th>\n",
       "      <th>func_path_in_repository</th>\n",
       "      <th>func_name</th>\n",
       "      <th>whole_func_string</th>\n",
       "      <th>language</th>\n",
       "      <th>func_code_string</th>\n",
       "      <th>func_code_tokens</th>\n",
       "      <th>func_documentation_string</th>\n",
       "      <th>func_documentation_tokens</th>\n",
       "      <th>split_name</th>\n",
       "      <th>func_code_url</th>\n",
       "    </tr>\n",
       "  </thead>\n",
       "  <tbody>\n",
       "    <tr>\n",
       "      <th>0</th>\n",
       "      <td>0</td>\n",
       "      <td>gem/oq-engine</td>\n",
       "      <td>openquake/calculators/export/hazard.py</td>\n",
       "      <td>export_ruptures_csv</td>\n",
       "      <td>def export_ruptures_csv(ekey, dstore):\\n    \"\"...</td>\n",
       "      <td>python</td>\n",
       "      <td>def export_ruptures_csv(ekey, dstore):\\n    \"\"...</td>\n",
       "      <td>['def' 'export_ruptures_csv' '(' 'ekey' ',' 'd...</td>\n",
       "      <td>:param ekey: export key, i.e. a pair (datastor...</td>\n",
       "      <td>[':' 'param' 'ekey' ':' 'export' 'key' 'i' '.'...</td>\n",
       "      <td>train</td>\n",
       "      <td>https://github.com/gem/oq-engine/blob/8294553a...</td>\n",
       "    </tr>\n",
       "    <tr>\n",
       "      <th>1</th>\n",
       "      <td>1</td>\n",
       "      <td>gem/oq-engine</td>\n",
       "      <td>openquake/calculators/export/hazard.py</td>\n",
       "      <td>export_hmaps_csv</td>\n",
       "      <td>def export_hmaps_csv(key, dest, sitemesh, arra...</td>\n",
       "      <td>python</td>\n",
       "      <td>def export_hmaps_csv(key, dest, sitemesh, arra...</td>\n",
       "      <td>['def' 'export_hmaps_csv' '(' 'key' ',' 'dest'...</td>\n",
       "      <td>Export the hazard maps of the given realizatio...</td>\n",
       "      <td>['Export' 'the' 'hazard' 'maps' 'of' 'the' 'gi...</td>\n",
       "      <td>train</td>\n",
       "      <td>https://github.com/gem/oq-engine/blob/8294553a...</td>\n",
       "    </tr>\n",
       "    <tr>\n",
       "      <th>2</th>\n",
       "      <td>2</td>\n",
       "      <td>gem/oq-engine</td>\n",
       "      <td>openquake/calculators/export/hazard.py</td>\n",
       "      <td>add_imt</td>\n",
       "      <td>def add_imt(fname, imt):\\n    \"\"\"\\n    &gt;&gt;&gt; add...</td>\n",
       "      <td>python</td>\n",
       "      <td>def add_imt(fname, imt):\\n    \"\"\"\\n    &gt;&gt;&gt; add...</td>\n",
       "      <td>['def' 'add_imt' '(' 'fname' ',' 'imt' ')' ':'...</td>\n",
       "      <td>&gt;&gt;&gt; add_imt('/path/to/hcurve_23.csv', 'SA(0.1)...</td>\n",
       "      <td>['&gt;&gt;&gt;' 'add_imt' '(' '/' 'path' '/' 'to' '/' '...</td>\n",
       "      <td>train</td>\n",
       "      <td>https://github.com/gem/oq-engine/blob/8294553a...</td>\n",
       "    </tr>\n",
       "    <tr>\n",
       "      <th>3</th>\n",
       "      <td>3</td>\n",
       "      <td>gem/oq-engine</td>\n",
       "      <td>openquake/calculators/export/hazard.py</td>\n",
       "      <td>export_hcurves_by_imt_csv</td>\n",
       "      <td>def export_hcurves_by_imt_csv(\\n        key, k...</td>\n",
       "      <td>python</td>\n",
       "      <td>def export_hcurves_by_imt_csv(\\n        key, k...</td>\n",
       "      <td>['def' 'export_hcurves_by_imt_csv' '(' 'key' '...</td>\n",
       "      <td>Export the curves of the given realization int...</td>\n",
       "      <td>['Export' 'the' 'curves' 'of' 'the' 'given' 'r...</td>\n",
       "      <td>train</td>\n",
       "      <td>https://github.com/gem/oq-engine/blob/8294553a...</td>\n",
       "    </tr>\n",
       "    <tr>\n",
       "      <th>4</th>\n",
       "      <td>4</td>\n",
       "      <td>gem/oq-engine</td>\n",
       "      <td>openquake/calculators/export/hazard.py</td>\n",
       "      <td>hazard_curve_name</td>\n",
       "      <td>def hazard_curve_name(dstore, ekey, kind, rlzs...</td>\n",
       "      <td>python</td>\n",
       "      <td>def hazard_curve_name(dstore, ekey, kind, rlzs...</td>\n",
       "      <td>['def' 'hazard_curve_name' '(' 'dstore' ',' 'e...</td>\n",
       "      <td>:param calc_id: the calculation ID\\n    :param...</td>\n",
       "      <td>[':' 'param' 'calc_id' ':' 'the' 'calculation'...</td>\n",
       "      <td>train</td>\n",
       "      <td>https://github.com/gem/oq-engine/blob/8294553a...</td>\n",
       "    </tr>\n",
       "  </tbody>\n",
       "</table>\n",
       "</div>"
      ]
     },
     "execution_count": 53,
     "metadata": {},
     "output_type": "execute_result"
    }
   ],
   "execution_count": 53
  },
  {
   "metadata": {
    "ExecuteTime": {
     "end_time": "2025-05-07T00:58:05.671103Z",
     "start_time": "2025-05-07T00:58:05.545908Z"
    }
   },
   "cell_type": "code",
   "source": [
    "df['repository_name'].unique()\n",
    "unique_repos = df['repository_name'].unique() #list of unique repos in bulk set\n",
    "grouped = df.groupby('repository_name') #group data by repo names"
   ],
   "id": "6a35c51a3b6d04ea",
   "outputs": [],
   "execution_count": 45
  },
  {
   "metadata": {
    "ExecuteTime": {
     "end_time": "2025-05-07T00:58:07.555185Z",
     "start_time": "2025-05-07T00:58:07.547718Z"
    }
   },
   "cell_type": "code",
   "source": [
    "print(len(unique_repos))\n",
    "print(unique_repos)"
   ],
   "id": "7ea1f605815e3374",
   "outputs": [
    {
     "name": "stdout",
     "output_type": "stream",
     "text": [
      "12231\n",
      "['gem/oq-engine' 'conan-io/conan-package-tools' 'edx/auth-backends' ...\n",
      " 'HHammond/PrettyPandas' 'TUT-ARG/sed_eval' 'rasguanabana/ytfs']\n"
     ]
    }
   ],
   "execution_count": 46
  },
  {
   "metadata": {
    "ExecuteTime": {
     "end_time": "2025-05-07T00:58:09.483049Z",
     "start_time": "2025-05-07T00:58:09.476042Z"
    }
   },
   "cell_type": "code",
   "source": "random_repo = random.sample(list(unique_repos), 4) #select random repos to work with",
   "id": "488941538a5b0cfc",
   "outputs": [],
   "execution_count": 47
  },
  {
   "metadata": {
    "ExecuteTime": {
     "end_time": "2025-05-07T00:58:11.364372Z",
     "start_time": "2025-05-07T00:58:11.357073Z"
    }
   },
   "cell_type": "code",
   "source": "print(random_repo)",
   "id": "58bacb9f217e2342",
   "outputs": [
    {
     "name": "stdout",
     "output_type": "stream",
     "text": [
      "['tadeck/onetimepass', 'ctuning/ck', 'rraadd88/rohan', 'michaelpb/omnic']\n"
     ]
    }
   ],
   "execution_count": 48
  },
  {
   "metadata": {
    "ExecuteTime": {
     "end_time": "2025-05-07T01:01:43.743938Z",
     "start_time": "2025-05-07T01:01:43.475435Z"
    }
   },
   "cell_type": "code",
   "source": [
    "for repo_name in random_repo: #iterate through random repos\n",
    "    group = grouped.get_group(repo_name) #extract repo data\n",
    "    clean_name = repo_name.replace('/', '_') #make filename clean\n",
    "    output_path = '../dataset/'\n",
    "    group.reset_index(drop=True).to_csv(output_path + clean_name + '.csv', index=True)\n",
    "    #Reset indexing of rows, push as csv file"
   ],
   "id": "92bcdf2ec80668b2",
   "outputs": [],
   "execution_count": 49
  },
  {
   "metadata": {
    "ExecuteTime": {
     "end_time": "2025-05-07T02:04:13.138Z",
     "start_time": "2025-05-07T02:04:13.129923Z"
    }
   },
   "cell_type": "code",
   "source": [
    "x_repo = 'HHammond/PrettyPandas'\n",
    "extra = grouped.get_group('HHammond/PrettyPandas')\n",
    "clean_name = x_repo.replace('/', '_')\n",
    "extra.reset_index(drop=True).to_csv('../dataset/' + clean_name + '.csv', index=False)"
   ],
   "id": "82b7fb68abb63e18",
   "outputs": [],
   "execution_count": 118
  },
  {
   "metadata": {
    "ExecuteTime": {
     "end_time": "2025-05-07T02:10:23.999086Z",
     "start_time": "2025-05-07T02:10:23.991944Z"
    }
   },
   "cell_type": "code",
   "source": "hhammond = pd.read_csv('../dataset/HHammond_PrettyPandas.csv')",
   "id": "c2adc0fb86e11e96",
   "outputs": [],
   "execution_count": 119
  },
  {
   "metadata": {
    "ExecuteTime": {
     "end_time": "2025-05-07T02:10:41.845136Z",
     "start_time": "2025-05-07T02:10:41.841310Z"
    }
   },
   "cell_type": "code",
   "source": "print(len(hhammond))",
   "id": "f50b5bd2c4fddd9d",
   "outputs": [
    {
     "name": "stdout",
     "output_type": "stream",
     "text": [
      "12\n"
     ]
    }
   ],
   "execution_count": 120
  },
  {
   "metadata": {
    "ExecuteTime": {
     "end_time": "2025-05-07T02:13:01.206443Z",
     "start_time": "2025-05-07T02:13:01.200359Z"
    }
   },
   "cell_type": "code",
   "source": [
    "hhammond.drop(columns = 'Unnamed: 0', inplace = True)\n",
    "hhammond.to_csv('../dataset/HHammond_PrettyPandas.csv', index=False)"
   ],
   "id": "7be587c33578b732",
   "outputs": [],
   "execution_count": 124
  },
  {
   "metadata": {
    "ExecuteTime": {
     "end_time": "2025-05-07T02:13:09.525167Z",
     "start_time": "2025-05-07T02:13:09.514636Z"
    }
   },
   "cell_type": "code",
   "source": "hhammond.head()",
   "id": "aef512e30dc60051",
   "outputs": [
    {
     "data": {
      "text/plain": [
       "         repository_name     func_path_in_repository  \\\n",
       "0  HHammond/PrettyPandas  prettypandas/formatters.py   \n",
       "1  HHammond/PrettyPandas  prettypandas/formatters.py   \n",
       "2  HHammond/PrettyPandas  prettypandas/formatters.py   \n",
       "3  HHammond/PrettyPandas  prettypandas/formatters.py   \n",
       "4  HHammond/PrettyPandas  prettypandas/summarizer.py   \n",
       "\n",
       "                     func_name  \\\n",
       "0  _surpress_formatting_errors   \n",
       "1                _format_numer   \n",
       "2                   as_percent   \n",
       "3                      as_unit   \n",
       "4              Aggregate.apply   \n",
       "\n",
       "                                   whole_func_string language  \\\n",
       "0  def _surpress_formatting_errors(fn):\\n    \"\"\"\\...   python   \n",
       "1  def _format_numer(number_format, prefix='', su...   python   \n",
       "2  def as_percent(precision=2, **kwargs):\\n    \"\"...   python   \n",
       "3  def as_unit(unit, precision=2, location='suffi...   python   \n",
       "4  def apply(self, df):\\n        \"\"\"Compute aggre...   python   \n",
       "\n",
       "                                    func_code_string  \\\n",
       "0  def _surpress_formatting_errors(fn):\\n    \"\"\"\\...   \n",
       "1  def _format_numer(number_format, prefix='', su...   \n",
       "2  def as_percent(precision=2, **kwargs):\\n    \"\"...   \n",
       "3  def as_unit(unit, precision=2, location='suffi...   \n",
       "4  def apply(self, df):\\n        \"\"\"Compute aggre...   \n",
       "\n",
       "                                    func_code_tokens  \\\n",
       "0  ['def' '_surpress_formatting_errors' '(' 'fn' ...   \n",
       "1  ['def' '_format_numer' '(' 'number_format' ','...   \n",
       "2  ['def' 'as_percent' '(' 'precision' '=' '2' ',...   \n",
       "3  ['def' 'as_unit' '(' 'unit' ',' 'precision' '=...   \n",
       "4  ['def' 'apply' '(' 'self' ',' 'df' ')' ':' 'if...   \n",
       "\n",
       "                           func_documentation_string  \\\n",
       "0  I know this is dangerous and the wrong way to ...   \n",
       "1                       Format a number to a string.   \n",
       "2  Convert number to percentage string.\\n\\n    Pa...   \n",
       "3  Convert value to unit.\\n\\n    Parameters:\\n   ...   \n",
       "4                   Compute aggregate over DataFrame   \n",
       "\n",
       "                           func_documentation_tokens split_name  \\\n",
       "0  ['I' 'know' 'this' 'is' 'dangerous' 'and' 'the...      train   \n",
       "1      ['Format' 'a' 'number' 'to' 'a' 'string' '.']      train   \n",
       "2  ['Convert' 'number' 'to' 'percentage' 'string'...      train   \n",
       "3                ['Convert' 'value' 'to' 'unit' '.']      train   \n",
       "4         ['Compute' 'aggregate' 'over' 'DataFrame']      train   \n",
       "\n",
       "                                       func_code_url  \n",
       "0  https://github.com/HHammond/PrettyPandas/blob/...  \n",
       "1  https://github.com/HHammond/PrettyPandas/blob/...  \n",
       "2  https://github.com/HHammond/PrettyPandas/blob/...  \n",
       "3  https://github.com/HHammond/PrettyPandas/blob/...  \n",
       "4  https://github.com/HHammond/PrettyPandas/blob/...  "
      ],
      "text/html": [
       "<div>\n",
       "<style scoped>\n",
       "    .dataframe tbody tr th:only-of-type {\n",
       "        vertical-align: middle;\n",
       "    }\n",
       "\n",
       "    .dataframe tbody tr th {\n",
       "        vertical-align: top;\n",
       "    }\n",
       "\n",
       "    .dataframe thead th {\n",
       "        text-align: right;\n",
       "    }\n",
       "</style>\n",
       "<table border=\"1\" class=\"dataframe\">\n",
       "  <thead>\n",
       "    <tr style=\"text-align: right;\">\n",
       "      <th></th>\n",
       "      <th>repository_name</th>\n",
       "      <th>func_path_in_repository</th>\n",
       "      <th>func_name</th>\n",
       "      <th>whole_func_string</th>\n",
       "      <th>language</th>\n",
       "      <th>func_code_string</th>\n",
       "      <th>func_code_tokens</th>\n",
       "      <th>func_documentation_string</th>\n",
       "      <th>func_documentation_tokens</th>\n",
       "      <th>split_name</th>\n",
       "      <th>func_code_url</th>\n",
       "    </tr>\n",
       "  </thead>\n",
       "  <tbody>\n",
       "    <tr>\n",
       "      <th>0</th>\n",
       "      <td>HHammond/PrettyPandas</td>\n",
       "      <td>prettypandas/formatters.py</td>\n",
       "      <td>_surpress_formatting_errors</td>\n",
       "      <td>def _surpress_formatting_errors(fn):\\n    \"\"\"\\...</td>\n",
       "      <td>python</td>\n",
       "      <td>def _surpress_formatting_errors(fn):\\n    \"\"\"\\...</td>\n",
       "      <td>['def' '_surpress_formatting_errors' '(' 'fn' ...</td>\n",
       "      <td>I know this is dangerous and the wrong way to ...</td>\n",
       "      <td>['I' 'know' 'this' 'is' 'dangerous' 'and' 'the...</td>\n",
       "      <td>train</td>\n",
       "      <td>https://github.com/HHammond/PrettyPandas/blob/...</td>\n",
       "    </tr>\n",
       "    <tr>\n",
       "      <th>1</th>\n",
       "      <td>HHammond/PrettyPandas</td>\n",
       "      <td>prettypandas/formatters.py</td>\n",
       "      <td>_format_numer</td>\n",
       "      <td>def _format_numer(number_format, prefix='', su...</td>\n",
       "      <td>python</td>\n",
       "      <td>def _format_numer(number_format, prefix='', su...</td>\n",
       "      <td>['def' '_format_numer' '(' 'number_format' ','...</td>\n",
       "      <td>Format a number to a string.</td>\n",
       "      <td>['Format' 'a' 'number' 'to' 'a' 'string' '.']</td>\n",
       "      <td>train</td>\n",
       "      <td>https://github.com/HHammond/PrettyPandas/blob/...</td>\n",
       "    </tr>\n",
       "    <tr>\n",
       "      <th>2</th>\n",
       "      <td>HHammond/PrettyPandas</td>\n",
       "      <td>prettypandas/formatters.py</td>\n",
       "      <td>as_percent</td>\n",
       "      <td>def as_percent(precision=2, **kwargs):\\n    \"\"...</td>\n",
       "      <td>python</td>\n",
       "      <td>def as_percent(precision=2, **kwargs):\\n    \"\"...</td>\n",
       "      <td>['def' 'as_percent' '(' 'precision' '=' '2' ',...</td>\n",
       "      <td>Convert number to percentage string.\\n\\n    Pa...</td>\n",
       "      <td>['Convert' 'number' 'to' 'percentage' 'string'...</td>\n",
       "      <td>train</td>\n",
       "      <td>https://github.com/HHammond/PrettyPandas/blob/...</td>\n",
       "    </tr>\n",
       "    <tr>\n",
       "      <th>3</th>\n",
       "      <td>HHammond/PrettyPandas</td>\n",
       "      <td>prettypandas/formatters.py</td>\n",
       "      <td>as_unit</td>\n",
       "      <td>def as_unit(unit, precision=2, location='suffi...</td>\n",
       "      <td>python</td>\n",
       "      <td>def as_unit(unit, precision=2, location='suffi...</td>\n",
       "      <td>['def' 'as_unit' '(' 'unit' ',' 'precision' '=...</td>\n",
       "      <td>Convert value to unit.\\n\\n    Parameters:\\n   ...</td>\n",
       "      <td>['Convert' 'value' 'to' 'unit' '.']</td>\n",
       "      <td>train</td>\n",
       "      <td>https://github.com/HHammond/PrettyPandas/blob/...</td>\n",
       "    </tr>\n",
       "    <tr>\n",
       "      <th>4</th>\n",
       "      <td>HHammond/PrettyPandas</td>\n",
       "      <td>prettypandas/summarizer.py</td>\n",
       "      <td>Aggregate.apply</td>\n",
       "      <td>def apply(self, df):\\n        \"\"\"Compute aggre...</td>\n",
       "      <td>python</td>\n",
       "      <td>def apply(self, df):\\n        \"\"\"Compute aggre...</td>\n",
       "      <td>['def' 'apply' '(' 'self' ',' 'df' ')' ':' 'if...</td>\n",
       "      <td>Compute aggregate over DataFrame</td>\n",
       "      <td>['Compute' 'aggregate' 'over' 'DataFrame']</td>\n",
       "      <td>train</td>\n",
       "      <td>https://github.com/HHammond/PrettyPandas/blob/...</td>\n",
       "    </tr>\n",
       "  </tbody>\n",
       "</table>\n",
       "</div>"
      ]
     },
     "execution_count": 125,
     "metadata": {},
     "output_type": "execute_result"
    }
   ],
   "execution_count": 125
  },
  {
   "metadata": {},
   "cell_type": "markdown",
   "source": "#Below are datasets to use. Do not run above code, other than imports",
   "id": "41c7be2c7337b5c5"
  },
  {
   "metadata": {
    "ExecuteTime": {
     "end_time": "2025-05-07T01:11:47.809438Z",
     "start_time": "2025-05-07T01:11:47.761529Z"
    }
   },
   "cell_type": "code",
   "source": [
    "ctuning = pd.read_csv('../dataset/ctuning_ck.csv')\n",
    "michael = pd.read_csv('../dataset/michaelpb_omnic.csv')\n",
    "rraadd = pd.read_csv('../dataset/rraadd88_rohan.csv')\n",
    "tadeck = pd.read_csv('../dataset/tadeck_onetimepass.csv')"
   ],
   "id": "c044baa91091218e",
   "outputs": [],
   "execution_count": 56
  },
  {
   "metadata": {
    "ExecuteTime": {
     "end_time": "2025-05-07T01:14:53.251353Z",
     "start_time": "2025-05-07T01:14:53.244134Z"
    }
   },
   "cell_type": "code",
   "source": [
    "print(len(ctuning))\n",
    "print(len(michael))\n",
    "print(len(rraadd))\n",
    "print(len(tadeck))"
   ],
   "id": "b8895087d7320f87",
   "outputs": [
    {
     "name": "stdout",
     "output_type": "stream",
     "text": [
      "130\n",
      "56\n",
      "54\n",
      "5\n"
     ]
    }
   ],
   "execution_count": 57
  },
  {
   "metadata": {},
   "cell_type": "markdown",
   "source": "Cleanup Process",
   "id": "2643afccb686b7e8"
  },
  {
   "metadata": {
    "ExecuteTime": {
     "end_time": "2025-05-07T01:57:10.889268Z",
     "start_time": "2025-05-07T01:57:10.856002Z"
    }
   },
   "cell_type": "code",
   "source": [
    "columns_to_drop = ['Unnamed: 0.1', 'Unnamed: 0']\n",
    "ctuning.drop(columns = columns_to_drop, inplace = True, errors='ignore')\n",
    "ctuning.to_csv('../dataset/ctuning_ck.csv', index = False)\n",
    "michael.drop(columns = columns_to_drop, inplace = True, errors='ignore')\n",
    "michael.to_csv('../dataset/michaelpb_omnic.csv', index = False)\n",
    "rraadd.drop(columns = columns_to_drop, inplace = True, errors='ignore')\n",
    "rraadd.to_csv('../dataset/rraadd88_rohan.csv', index = False)\n",
    "tadeck.drop(columns = columns_to_drop, inplace = True, errors='ignore')\n",
    "tadeck.to_csv('../dataset/tadeck_onetimepass.csv', index = False)"
   ],
   "id": "336644cb5b7272a9",
   "outputs": [],
   "execution_count": 106
  },
  {
   "metadata": {
    "ExecuteTime": {
     "end_time": "2025-05-07T02:13:25.829752Z",
     "start_time": "2025-05-07T02:13:25.810866Z"
    }
   },
   "cell_type": "code",
   "source": "test = pd.read_csv('../dataset/HHammond_PrettyPandas.csv')",
   "id": "ae620f4f3d6eb957",
   "outputs": [],
   "execution_count": 126
  },
  {
   "metadata": {
    "ExecuteTime": {
     "end_time": "2025-05-07T02:13:27.461873Z",
     "start_time": "2025-05-07T02:13:27.452191Z"
    }
   },
   "cell_type": "code",
   "source": "test.head()",
   "id": "fadd3d1a9cc68d62",
   "outputs": [
    {
     "data": {
      "text/plain": [
       "         repository_name     func_path_in_repository  \\\n",
       "0  HHammond/PrettyPandas  prettypandas/formatters.py   \n",
       "1  HHammond/PrettyPandas  prettypandas/formatters.py   \n",
       "2  HHammond/PrettyPandas  prettypandas/formatters.py   \n",
       "3  HHammond/PrettyPandas  prettypandas/formatters.py   \n",
       "4  HHammond/PrettyPandas  prettypandas/summarizer.py   \n",
       "\n",
       "                     func_name  \\\n",
       "0  _surpress_formatting_errors   \n",
       "1                _format_numer   \n",
       "2                   as_percent   \n",
       "3                      as_unit   \n",
       "4              Aggregate.apply   \n",
       "\n",
       "                                   whole_func_string language  \\\n",
       "0  def _surpress_formatting_errors(fn):\\n    \"\"\"\\...   python   \n",
       "1  def _format_numer(number_format, prefix='', su...   python   \n",
       "2  def as_percent(precision=2, **kwargs):\\n    \"\"...   python   \n",
       "3  def as_unit(unit, precision=2, location='suffi...   python   \n",
       "4  def apply(self, df):\\n        \"\"\"Compute aggre...   python   \n",
       "\n",
       "                                    func_code_string  \\\n",
       "0  def _surpress_formatting_errors(fn):\\n    \"\"\"\\...   \n",
       "1  def _format_numer(number_format, prefix='', su...   \n",
       "2  def as_percent(precision=2, **kwargs):\\n    \"\"...   \n",
       "3  def as_unit(unit, precision=2, location='suffi...   \n",
       "4  def apply(self, df):\\n        \"\"\"Compute aggre...   \n",
       "\n",
       "                                    func_code_tokens  \\\n",
       "0  ['def' '_surpress_formatting_errors' '(' 'fn' ...   \n",
       "1  ['def' '_format_numer' '(' 'number_format' ','...   \n",
       "2  ['def' 'as_percent' '(' 'precision' '=' '2' ',...   \n",
       "3  ['def' 'as_unit' '(' 'unit' ',' 'precision' '=...   \n",
       "4  ['def' 'apply' '(' 'self' ',' 'df' ')' ':' 'if...   \n",
       "\n",
       "                           func_documentation_string  \\\n",
       "0  I know this is dangerous and the wrong way to ...   \n",
       "1                       Format a number to a string.   \n",
       "2  Convert number to percentage string.\\n\\n    Pa...   \n",
       "3  Convert value to unit.\\n\\n    Parameters:\\n   ...   \n",
       "4                   Compute aggregate over DataFrame   \n",
       "\n",
       "                           func_documentation_tokens split_name  \\\n",
       "0  ['I' 'know' 'this' 'is' 'dangerous' 'and' 'the...      train   \n",
       "1      ['Format' 'a' 'number' 'to' 'a' 'string' '.']      train   \n",
       "2  ['Convert' 'number' 'to' 'percentage' 'string'...      train   \n",
       "3                ['Convert' 'value' 'to' 'unit' '.']      train   \n",
       "4         ['Compute' 'aggregate' 'over' 'DataFrame']      train   \n",
       "\n",
       "                                       func_code_url  \n",
       "0  https://github.com/HHammond/PrettyPandas/blob/...  \n",
       "1  https://github.com/HHammond/PrettyPandas/blob/...  \n",
       "2  https://github.com/HHammond/PrettyPandas/blob/...  \n",
       "3  https://github.com/HHammond/PrettyPandas/blob/...  \n",
       "4  https://github.com/HHammond/PrettyPandas/blob/...  "
      ],
      "text/html": [
       "<div>\n",
       "<style scoped>\n",
       "    .dataframe tbody tr th:only-of-type {\n",
       "        vertical-align: middle;\n",
       "    }\n",
       "\n",
       "    .dataframe tbody tr th {\n",
       "        vertical-align: top;\n",
       "    }\n",
       "\n",
       "    .dataframe thead th {\n",
       "        text-align: right;\n",
       "    }\n",
       "</style>\n",
       "<table border=\"1\" class=\"dataframe\">\n",
       "  <thead>\n",
       "    <tr style=\"text-align: right;\">\n",
       "      <th></th>\n",
       "      <th>repository_name</th>\n",
       "      <th>func_path_in_repository</th>\n",
       "      <th>func_name</th>\n",
       "      <th>whole_func_string</th>\n",
       "      <th>language</th>\n",
       "      <th>func_code_string</th>\n",
       "      <th>func_code_tokens</th>\n",
       "      <th>func_documentation_string</th>\n",
       "      <th>func_documentation_tokens</th>\n",
       "      <th>split_name</th>\n",
       "      <th>func_code_url</th>\n",
       "    </tr>\n",
       "  </thead>\n",
       "  <tbody>\n",
       "    <tr>\n",
       "      <th>0</th>\n",
       "      <td>HHammond/PrettyPandas</td>\n",
       "      <td>prettypandas/formatters.py</td>\n",
       "      <td>_surpress_formatting_errors</td>\n",
       "      <td>def _surpress_formatting_errors(fn):\\n    \"\"\"\\...</td>\n",
       "      <td>python</td>\n",
       "      <td>def _surpress_formatting_errors(fn):\\n    \"\"\"\\...</td>\n",
       "      <td>['def' '_surpress_formatting_errors' '(' 'fn' ...</td>\n",
       "      <td>I know this is dangerous and the wrong way to ...</td>\n",
       "      <td>['I' 'know' 'this' 'is' 'dangerous' 'and' 'the...</td>\n",
       "      <td>train</td>\n",
       "      <td>https://github.com/HHammond/PrettyPandas/blob/...</td>\n",
       "    </tr>\n",
       "    <tr>\n",
       "      <th>1</th>\n",
       "      <td>HHammond/PrettyPandas</td>\n",
       "      <td>prettypandas/formatters.py</td>\n",
       "      <td>_format_numer</td>\n",
       "      <td>def _format_numer(number_format, prefix='', su...</td>\n",
       "      <td>python</td>\n",
       "      <td>def _format_numer(number_format, prefix='', su...</td>\n",
       "      <td>['def' '_format_numer' '(' 'number_format' ','...</td>\n",
       "      <td>Format a number to a string.</td>\n",
       "      <td>['Format' 'a' 'number' 'to' 'a' 'string' '.']</td>\n",
       "      <td>train</td>\n",
       "      <td>https://github.com/HHammond/PrettyPandas/blob/...</td>\n",
       "    </tr>\n",
       "    <tr>\n",
       "      <th>2</th>\n",
       "      <td>HHammond/PrettyPandas</td>\n",
       "      <td>prettypandas/formatters.py</td>\n",
       "      <td>as_percent</td>\n",
       "      <td>def as_percent(precision=2, **kwargs):\\n    \"\"...</td>\n",
       "      <td>python</td>\n",
       "      <td>def as_percent(precision=2, **kwargs):\\n    \"\"...</td>\n",
       "      <td>['def' 'as_percent' '(' 'precision' '=' '2' ',...</td>\n",
       "      <td>Convert number to percentage string.\\n\\n    Pa...</td>\n",
       "      <td>['Convert' 'number' 'to' 'percentage' 'string'...</td>\n",
       "      <td>train</td>\n",
       "      <td>https://github.com/HHammond/PrettyPandas/blob/...</td>\n",
       "    </tr>\n",
       "    <tr>\n",
       "      <th>3</th>\n",
       "      <td>HHammond/PrettyPandas</td>\n",
       "      <td>prettypandas/formatters.py</td>\n",
       "      <td>as_unit</td>\n",
       "      <td>def as_unit(unit, precision=2, location='suffi...</td>\n",
       "      <td>python</td>\n",
       "      <td>def as_unit(unit, precision=2, location='suffi...</td>\n",
       "      <td>['def' 'as_unit' '(' 'unit' ',' 'precision' '=...</td>\n",
       "      <td>Convert value to unit.\\n\\n    Parameters:\\n   ...</td>\n",
       "      <td>['Convert' 'value' 'to' 'unit' '.']</td>\n",
       "      <td>train</td>\n",
       "      <td>https://github.com/HHammond/PrettyPandas/blob/...</td>\n",
       "    </tr>\n",
       "    <tr>\n",
       "      <th>4</th>\n",
       "      <td>HHammond/PrettyPandas</td>\n",
       "      <td>prettypandas/summarizer.py</td>\n",
       "      <td>Aggregate.apply</td>\n",
       "      <td>def apply(self, df):\\n        \"\"\"Compute aggre...</td>\n",
       "      <td>python</td>\n",
       "      <td>def apply(self, df):\\n        \"\"\"Compute aggre...</td>\n",
       "      <td>['def' 'apply' '(' 'self' ',' 'df' ')' ':' 'if...</td>\n",
       "      <td>Compute aggregate over DataFrame</td>\n",
       "      <td>['Compute' 'aggregate' 'over' 'DataFrame']</td>\n",
       "      <td>train</td>\n",
       "      <td>https://github.com/HHammond/PrettyPandas/blob/...</td>\n",
       "    </tr>\n",
       "  </tbody>\n",
       "</table>\n",
       "</div>"
      ]
     },
     "execution_count": 127,
     "metadata": {},
     "output_type": "execute_result"
    }
   ],
   "execution_count": 127
  },
  {
   "metadata": {
    "ExecuteTime": {
     "end_time": "2025-05-07T01:59:21.726912Z",
     "start_time": "2025-05-07T01:59:21.717289Z"
    }
   },
   "cell_type": "code",
   "source": "ctuning.head()",
   "id": "4bf8c75d870ecb38",
   "outputs": [
    {
     "data": {
      "text/plain": [
       "  repository_name        func_path_in_repository func_name  \\\n",
       "0      ctuning/ck   ck/repo/module/web/module.py   call_ck   \n",
       "1      ctuning/ck   ck/repo/module/web/module.py   web_err   \n",
       "2      ctuning/ck  ck/repo/module/repo/module.py       add   \n",
       "3      ctuning/ck  ck/repo/module/repo/module.py    update   \n",
       "4      ctuning/ck  ck/repo/module/repo/module.py      pull   \n",
       "\n",
       "                                   whole_func_string language  \\\n",
       "0  def call_ck(i):\\n\\n    \"\"\"\\n    Input:  {\\n   ...   python   \n",
       "1  def web_err(i):\\n\\n    \"\"\"\\n    Input:  {\\n   ...   python   \n",
       "2  def add(i):\\n    \"\"\"\\n    Note, that we can't ...   python   \n",
       "3  def update(i):\\n    \"\"\"\\n    Update repository...   python   \n",
       "4  def pull(i):\\n    \"\"\"\\n    Input:  {\\n        ...   python   \n",
       "\n",
       "                                    func_code_string  \\\n",
       "0  def call_ck(i):\\n\\n    \"\"\"\\n    Input:  {\\n   ...   \n",
       "1  def web_err(i):\\n\\n    \"\"\"\\n    Input:  {\\n   ...   \n",
       "2  def add(i):\\n    \"\"\"\\n    Note, that we can't ...   \n",
       "3  def update(i):\\n    \"\"\"\\n    Update repository...   \n",
       "4  def pull(i):\\n    \"\"\"\\n    Input:  {\\n        ...   \n",
       "\n",
       "                                    func_code_tokens  \\\n",
       "0  ['def' 'call_ck' '(' 'i' ')' ':' 'import' 'sub...   \n",
       "1  ['def' 'web_err' '(' 'i' ')' ':' 'http' '=' 'i...   \n",
       "2            ['def' 'add' '(' ... ')' 'return' 'rx']   \n",
       "3  ['def' 'update' '(' 'i' ')' ':' '# Check if gl...   \n",
       "4                 ['def' 'pull' '(' ... ':' '0' '}']   \n",
       "\n",
       "                           func_documentation_string  \\\n",
       "0  Input:  {\\n              Input for CK\\n       ...   \n",
       "1  Input:  {\\n              http - http object\\n ...   \n",
       "2  Note, that we can't create repos in parallel (...   \n",
       "3  Update repository info\\n\\n    Input:  {\\n     ...   \n",
       "4  Input:  {\\n              (path)  - repo UOA (w...   \n",
       "\n",
       "                           func_documentation_tokens split_name  \\\n",
       "0           ['Input' ':' '{' 'Input' 'for' 'CK' '}']      train   \n",
       "1  ['Input' ':' '{' 'http' '-' 'http' 'object' 't...      train   \n",
       "2  ['Note' 'that' 'we' 'can' 't' 'create' 'repos'...      train   \n",
       "3                     ['Update' 'repository' 'info']      train   \n",
       "4  ['Input' ':' '{' '(' 'path' ')' '-' 'repo' 'UO...      train   \n",
       "\n",
       "                                       func_code_url  \n",
       "0  https://github.com/ctuning/ck/blob/7e009814e97...  \n",
       "1  https://github.com/ctuning/ck/blob/7e009814e97...  \n",
       "2  https://github.com/ctuning/ck/blob/7e009814e97...  \n",
       "3  https://github.com/ctuning/ck/blob/7e009814e97...  \n",
       "4  https://github.com/ctuning/ck/blob/7e009814e97...  "
      ],
      "text/html": [
       "<div>\n",
       "<style scoped>\n",
       "    .dataframe tbody tr th:only-of-type {\n",
       "        vertical-align: middle;\n",
       "    }\n",
       "\n",
       "    .dataframe tbody tr th {\n",
       "        vertical-align: top;\n",
       "    }\n",
       "\n",
       "    .dataframe thead th {\n",
       "        text-align: right;\n",
       "    }\n",
       "</style>\n",
       "<table border=\"1\" class=\"dataframe\">\n",
       "  <thead>\n",
       "    <tr style=\"text-align: right;\">\n",
       "      <th></th>\n",
       "      <th>repository_name</th>\n",
       "      <th>func_path_in_repository</th>\n",
       "      <th>func_name</th>\n",
       "      <th>whole_func_string</th>\n",
       "      <th>language</th>\n",
       "      <th>func_code_string</th>\n",
       "      <th>func_code_tokens</th>\n",
       "      <th>func_documentation_string</th>\n",
       "      <th>func_documentation_tokens</th>\n",
       "      <th>split_name</th>\n",
       "      <th>func_code_url</th>\n",
       "    </tr>\n",
       "  </thead>\n",
       "  <tbody>\n",
       "    <tr>\n",
       "      <th>0</th>\n",
       "      <td>ctuning/ck</td>\n",
       "      <td>ck/repo/module/web/module.py</td>\n",
       "      <td>call_ck</td>\n",
       "      <td>def call_ck(i):\\n\\n    \"\"\"\\n    Input:  {\\n   ...</td>\n",
       "      <td>python</td>\n",
       "      <td>def call_ck(i):\\n\\n    \"\"\"\\n    Input:  {\\n   ...</td>\n",
       "      <td>['def' 'call_ck' '(' 'i' ')' ':' 'import' 'sub...</td>\n",
       "      <td>Input:  {\\n              Input for CK\\n       ...</td>\n",
       "      <td>['Input' ':' '{' 'Input' 'for' 'CK' '}']</td>\n",
       "      <td>train</td>\n",
       "      <td>https://github.com/ctuning/ck/blob/7e009814e97...</td>\n",
       "    </tr>\n",
       "    <tr>\n",
       "      <th>1</th>\n",
       "      <td>ctuning/ck</td>\n",
       "      <td>ck/repo/module/web/module.py</td>\n",
       "      <td>web_err</td>\n",
       "      <td>def web_err(i):\\n\\n    \"\"\"\\n    Input:  {\\n   ...</td>\n",
       "      <td>python</td>\n",
       "      <td>def web_err(i):\\n\\n    \"\"\"\\n    Input:  {\\n   ...</td>\n",
       "      <td>['def' 'web_err' '(' 'i' ')' ':' 'http' '=' 'i...</td>\n",
       "      <td>Input:  {\\n              http - http object\\n ...</td>\n",
       "      <td>['Input' ':' '{' 'http' '-' 'http' 'object' 't...</td>\n",
       "      <td>train</td>\n",
       "      <td>https://github.com/ctuning/ck/blob/7e009814e97...</td>\n",
       "    </tr>\n",
       "    <tr>\n",
       "      <th>2</th>\n",
       "      <td>ctuning/ck</td>\n",
       "      <td>ck/repo/module/repo/module.py</td>\n",
       "      <td>add</td>\n",
       "      <td>def add(i):\\n    \"\"\"\\n    Note, that we can't ...</td>\n",
       "      <td>python</td>\n",
       "      <td>def add(i):\\n    \"\"\"\\n    Note, that we can't ...</td>\n",
       "      <td>['def' 'add' '(' ... ')' 'return' 'rx']</td>\n",
       "      <td>Note, that we can't create repos in parallel (...</td>\n",
       "      <td>['Note' 'that' 'we' 'can' 't' 'create' 'repos'...</td>\n",
       "      <td>train</td>\n",
       "      <td>https://github.com/ctuning/ck/blob/7e009814e97...</td>\n",
       "    </tr>\n",
       "    <tr>\n",
       "      <th>3</th>\n",
       "      <td>ctuning/ck</td>\n",
       "      <td>ck/repo/module/repo/module.py</td>\n",
       "      <td>update</td>\n",
       "      <td>def update(i):\\n    \"\"\"\\n    Update repository...</td>\n",
       "      <td>python</td>\n",
       "      <td>def update(i):\\n    \"\"\"\\n    Update repository...</td>\n",
       "      <td>['def' 'update' '(' 'i' ')' ':' '# Check if gl...</td>\n",
       "      <td>Update repository info\\n\\n    Input:  {\\n     ...</td>\n",
       "      <td>['Update' 'repository' 'info']</td>\n",
       "      <td>train</td>\n",
       "      <td>https://github.com/ctuning/ck/blob/7e009814e97...</td>\n",
       "    </tr>\n",
       "    <tr>\n",
       "      <th>4</th>\n",
       "      <td>ctuning/ck</td>\n",
       "      <td>ck/repo/module/repo/module.py</td>\n",
       "      <td>pull</td>\n",
       "      <td>def pull(i):\\n    \"\"\"\\n    Input:  {\\n        ...</td>\n",
       "      <td>python</td>\n",
       "      <td>def pull(i):\\n    \"\"\"\\n    Input:  {\\n        ...</td>\n",
       "      <td>['def' 'pull' '(' ... ':' '0' '}']</td>\n",
       "      <td>Input:  {\\n              (path)  - repo UOA (w...</td>\n",
       "      <td>['Input' ':' '{' '(' 'path' ')' '-' 'repo' 'UO...</td>\n",
       "      <td>train</td>\n",
       "      <td>https://github.com/ctuning/ck/blob/7e009814e97...</td>\n",
       "    </tr>\n",
       "  </tbody>\n",
       "</table>\n",
       "</div>"
      ]
     },
     "execution_count": 117,
     "metadata": {},
     "output_type": "execute_result"
    }
   ],
   "execution_count": 117
  }
 ],
 "metadata": {
  "kernelspec": {
   "display_name": "Python 3",
   "language": "python",
   "name": "python3"
  },
  "language_info": {
   "codemirror_mode": {
    "name": "ipython",
    "version": 2
   },
   "file_extension": ".py",
   "mimetype": "text/x-python",
   "name": "python",
   "nbconvert_exporter": "python",
   "pygments_lexer": "ipython2",
   "version": "2.7.6"
  }
 },
 "nbformat": 4,
 "nbformat_minor": 5
}
